{
 "cells": [
  {
   "cell_type": "markdown",
   "metadata": {},
   "source": [
    "## Backtracking"
   ]
  },
  {
   "cell_type": "code",
   "execution_count": null,
   "metadata": {},
   "outputs": [],
   "source": [
    "def backtrack(candidates, path, result):\n",
    "    # Base case - when we've found a valid solution\n",
    "    if is_solution(path):\n",
    "        result.append(path[:])  # Make a copy of current path\n",
    "        return\n",
    "    \n",
    "    # Try each possible candidate\n",
    "    for i in range(len(candidates)):\n",
    "        # Skip invalid choices (pruning)\n",
    "        if not is_valid(candidates[i], path):\n",
    "            continue\n",
    "            \n",
    "        # Make a choice\n",
    "        path.append(candidates[i])\n",
    "        \n",
    "        # Recursively try to find solutions with this choice\n",
    "        backtrack(candidates, path, result)\n",
    "        \n",
    "        # Undo the choice (backtrack)\n",
    "        path.pop()\n",
    "\n",
    "# Usage\n",
    "def solve_problem(candidates):\n",
    "    result = []\n",
    "    backtrack(candidates, [], result)\n",
    "    return result"
   ]
  },
  {
   "cell_type": "markdown",
   "metadata": {},
   "source": [
    "## Tree DFS and BFS"
   ]
  },
  {
   "cell_type": "code",
   "execution_count": null,
   "metadata": {},
   "outputs": [],
   "source": [
    "def dfs_recursive(node):\n",
    "    \"\"\"\n",
    "    Recursive DFS for a binary tree.\n",
    "    \n",
    "    :param node: Current TreeNode being visited\n",
    "    \"\"\"\n",
    "    if not node:\n",
    "        return\n",
    "    \n",
    "    print(node.value)  # Process the current node (e.g., print or some operation)\n",
    "    \n",
    "    dfs_recursive(node.left)   # Visit left subtree\n",
    "    dfs_recursive(node.right)  # Visit right subtree"
   ]
  },
  {
   "cell_type": "markdown",
   "metadata": {},
   "source": [
    "### Level Order Traversal"
   ]
  },
  {
   "cell_type": "code",
   "execution_count": null,
   "metadata": {},
   "outputs": [],
   "source": [
    "class Solution:\n",
    "    def levelOrder(self, root):\n",
    "        if not root:\n",
    "            return []\n",
    "\n",
    "        queue=collections.deque([root])\n",
    "        result=[]\n",
    "\n",
    "        while queue:\n",
    "            level=[]\n",
    "            for _ in range(len(queue)):\n",
    "                cur=queue.popleft()\n",
    "                level.append(cur.val)\n",
    "                if cur.left:\n",
    "                    queue.append(cur.left)\n",
    "                if cur.right:\n",
    "                    queue.append(cur.right)\n",
    "            \n",
    "            result.append(level)\n",
    "        \n",
    "        return result"
   ]
  },
  {
   "cell_type": "markdown",
   "metadata": {},
   "source": [
    "## Graph Traversal"
   ]
  },
  {
   "cell_type": "code",
   "execution_count": null,
   "metadata": {},
   "outputs": [],
   "source": [
    "def dfs_iterative(graph, start):\n",
    "    visited = set()\n",
    "    stack = [start]\n",
    "    \n",
    "    while stack:\n",
    "        node = stack.pop()\n",
    "        if node not in visited:\n",
    "            print(node)  # Process the node\n",
    "            visited.add(node)\n",
    "            # Add neighbors to the stack in reverse order for correct traversal\n",
    "            stack.extend(reversed(graph[node]))"
   ]
  },
  {
   "cell_type": "code",
   "execution_count": null,
   "metadata": {},
   "outputs": [],
   "source": [
    "from collections import deque\n",
    "\n",
    "def bfs(graph, start):\n",
    "    visited = set()  # Track visited nodes\n",
    "    queue = deque([start])  # Start with the initial node\n",
    "    \n",
    "    while queue:\n",
    "        node = queue.popleft()\n",
    "        if node not in visited:\n",
    "            print(node)  # Process the node\n",
    "            visited.add(node)  # Mark node as visited\n",
    "            \n",
    "            # Add neighbors of the current node to the queue\n",
    "            for neighbor in graph[node]:\n",
    "                if neighbor not in visited:\n",
    "                    queue.append(neighbor)"
   ]
  },
  {
   "cell_type": "markdown",
   "metadata": {},
   "source": [
    "## Heap Usage"
   ]
  },
  {
   "cell_type": "code",
   "execution_count": null,
   "metadata": {},
   "outputs": [],
   "source": [
    "from heapq import heappush, heappop, heapify\n",
    "\n",
    "# Creating a heap\n",
    "heap = []\n",
    "\n",
    "# Adding elements (heappush)\n",
    "heappush(heap, 5)  # heap = [5]\n",
    "heappush(heap, 3)  # heap = [3, 5]\n",
    "heappush(heap, 7)  # heap = [3, 5, 7]\n",
    "heappush(heap, 1)  # heap = [1, 3, 5, 7]\n",
    "\n",
    "# Get minimum element without removing (peek)\n",
    "min_element = heap[0]  # returns 1\n",
    "\n",
    "# Remove and return minimum element (heappop)\n",
    "smallest = heappop(heap)  # returns 1, heap = [3, 5, 7]\n",
    "\n",
    "# Convert existing list to heap\n",
    "numbers = [5, 3, 7, 1]\n",
    "heapify(numbers)  # numbers is now a valid heap [1, 3, 7, 5]\n",
    "\n",
    "# For max heap, you can use negative numbers (python have min heap by default)\n",
    "max_heap = []\n",
    "heappush(max_heap, -5)  # Push -5 to get 5\n",
    "heappush(max_heap, -3)  # Push -3 to get 3\n",
    "largest = -heappop(max_heap)  # Pop and negate to get largest\n",
    "\n",
    "#the nlargest function\n",
    "import heapq\n",
    "\n",
    "heapq.nlargest(n, iterable, key=None)\n",
    "\n",
    "#basic usage:\n",
    "import heapq\n",
    "\n",
    "nums = [1, 8, 3, 5, 7, 2]\n",
    "largest_three = heapq.nlargest(3, nums)\n",
    "print(largest_three)\n",
    "\n",
    "\n",
    "#advanced usage:\n",
    "import heapq\n",
    "\n",
    "students = [\n",
    "    ('Alice', 85),\n",
    "    ('Bob', 92),\n",
    "    ('Charlie', 88),\n",
    "    ('David', 90)\n",
    "]\n",
    "\n",
    "# Get top 2 students with the highest scores\n",
    "top_students = heapq.nlargest(2, students, key=lambda student: student[1])\n",
    "print(top_students)"
   ]
  }
 ],
 "metadata": {
  "kernelspec": {
   "display_name": "Python 3",
   "language": "python",
   "name": "python3"
  },
  "language_info": {
   "name": "python",
   "version": "3.12.8"
  }
 },
 "nbformat": 4,
 "nbformat_minor": 2
}
